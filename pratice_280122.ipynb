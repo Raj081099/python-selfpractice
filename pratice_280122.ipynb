{
 "cells": [
  {
   "cell_type": "code",
   "execution_count": null,
   "id": "95600d14",
   "metadata": {},
   "outputs": [],
   "source": [
    "a=input(\"Enter a string: \")\n",
    "b=a[-1:-5:1]\n",
    "print(b)\n",
    "if(a==b):\n",
    "    print(\"The string is palindrom\")\n",
    "else:\n",
    "    print(\"The string is not palindrom\")\n",
    "    \n",
    "    "
   ]
  },
  {
   "cell_type": "code",
   "execution_count": null,
   "id": "d5f31dac",
   "metadata": {},
   "outputs": [],
   "source": [
    "s=input(\"Enter a string\")\n",
    "po=int(input(\"Enter the position\"))\n",
    "l=len(s)\n",
    "for i in range (0,l+1):\n",
    "    if i==po-1:\n",
    "        print(s[i])\n",
    "        #s[i]=' '\n",
    "        a=s[i]\n",
    "        print(a)\n",
    "        a=\" \"\n",
    "        print(a)    \n",
    "print(s)    \n",
    "\n"
   ]
  },
  {
   "cell_type": "code",
   "execution_count": null,
   "id": "c10a264c",
   "metadata": {},
   "outputs": [],
   "source": [
    "s1=input(\"Enter a string\")\n",
    "po1=int(input(\"Enter the position\"))\n",
    "s2=s1[:po1-1]\n",
    "s3=s1[po1:]\n",
    "print(\"Character deleted string is\",s2+s3)\n"
   ]
  },
  {
   "cell_type": "code",
   "execution_count": null,
   "id": "a464d3c4",
   "metadata": {},
   "outputs": [],
   "source": [
    "\n",
    "    "
   ]
  },
  {
   "cell_type": "code",
   "execution_count": null,
   "id": "9a4aa0cb",
   "metadata": {},
   "outputs": [],
   "source": [
    "a=input(\"Enter a string: \")\n",
    "rev=0\n",
    "rev=a[-1::-1]\n",
    "print(rev)"
   ]
  },
  {
   "cell_type": "code",
   "execution_count": null,
   "id": "40768d13",
   "metadata": {},
   "outputs": [],
   "source": []
  },
  {
   "cell_type": "code",
   "execution_count": null,
   "id": "0f12d27c",
   "metadata": {},
   "outputs": [],
   "source": []
  },
  {
   "cell_type": "code",
   "execution_count": null,
   "id": "a5aada7c",
   "metadata": {},
   "outputs": [],
   "source": [
    "str=input(\"Enter a string\")\n",
    "str1=\" \"\n",
    "n=int(input(\"Enter a position\"))\n",
    "for i in range(len(str)):\n",
    "    \n",
    "        str1=str+str1\n",
    "        print(str1)\n",
    "    "
   ]
  },
  {
   "cell_type": "code",
   "execution_count": null,
   "id": "a30a52cf",
   "metadata": {},
   "outputs": [],
   "source": []
  },
  {
   "cell_type": "code",
   "execution_count": null,
   "id": "4be3138f",
   "metadata": {},
   "outputs": [],
   "source": []
  }
 ],
 "metadata": {
  "kernelspec": {
   "display_name": "Python 3 (ipykernel)",
   "language": "python",
   "name": "python3"
  },
  "language_info": {
   "codemirror_mode": {
    "name": "ipython",
    "version": 3
   },
   "file_extension": ".py",
   "mimetype": "text/x-python",
   "name": "python",
   "nbconvert_exporter": "python",
   "pygments_lexer": "ipython3",
   "version": "3.9.7"
  }
 },
 "nbformat": 4,
 "nbformat_minor": 5
}

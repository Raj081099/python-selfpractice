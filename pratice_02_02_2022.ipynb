{
 "cells": [
  {
   "cell_type": "code",
   "execution_count": 1,
   "id": "02140188",
   "metadata": {},
   "outputs": [
    {
     "name": "stdout",
     "output_type": "stream",
     "text": [
      "Enter a String : rat\n",
      "3\n"
     ]
    }
   ],
   "source": [
    "#calculating length of String\n",
    "str=input(\"Enter a String : \")\n",
    "\n",
    "length=len(str)\n",
    "\n",
    "print(length)"
   ]
  },
  {
   "cell_type": "code",
   "execution_count": 2,
   "id": "85e20f8c",
   "metadata": {},
   "outputs": [
    {
     "name": "stdout",
     "output_type": "stream",
     "text": [
      "Enter a string: rAaj\n",
      "4\n"
     ]
    }
   ],
   "source": [
    "str=input(\"Enter a string: \")\n",
    "counter=0\n",
    "for i in str:\n",
    "    counter=counter+1\n",
    "\n",
    "print (counter)"
   ]
  },
  {
   "cell_type": "code",
   "execution_count": 3,
   "id": "eded7780",
   "metadata": {},
   "outputs": [
    {
     "name": "stdout",
     "output_type": "stream",
     "text": [
      "Print String in default order: \n",
      "Divine Ai Startup\n",
      "\n",
      "Print String in Positional order: \n",
      "Ai Divine Startup\n",
      "\n",
      "Print String in order of Keywords: \n",
      "Startup Ai Startup\n"
     ]
    }
   ],
   "source": [
    "# Python Program for\n",
    "# Formatting of Strings\n",
    "\n",
    "# Default order\n",
    "String1 = \"{} {} {}\".format('Divine', 'Ai', 'Startup')\n",
    "print(\"Print String in default order: \")\n",
    "print(String1)\n",
    "\n",
    "# Positional Formatting\n",
    "String1 = \"{1} {0} {2}\".format('Divine', 'Ai', 'Startup')\n",
    "print(\"\\nPrint String in Positional order: \")\n",
    "print(String1)\n",
    "\n",
    "# Keyword Formatting\n",
    "String1 = \"{s} {a} {s}\".format(d='Divine', a='Ai', s='Startup')\n",
    "print(\"\\nPrint String in order of Keywords: \")\n",
    "print(String1)\n"
   ]
  },
  {
   "cell_type": "code",
   "execution_count": null,
   "id": "e339515c",
   "metadata": {},
   "outputs": [],
   "source": []
  },
  {
   "cell_type": "code",
   "execution_count": null,
   "id": "b5bf1edb",
   "metadata": {},
   "outputs": [],
   "source": []
  }
 ],
 "metadata": {
  "kernelspec": {
   "display_name": "Python 3 (ipykernel)",
   "language": "python",
   "name": "python3"
  },
  "language_info": {
   "codemirror_mode": {
    "name": "ipython",
    "version": 3
   },
   "file_extension": ".py",
   "mimetype": "text/x-python",
   "name": "python",
   "nbconvert_exporter": "python",
   "pygments_lexer": "ipython3",
   "version": "3.9.7"
  }
 },
 "nbformat": 4,
 "nbformat_minor": 5
}

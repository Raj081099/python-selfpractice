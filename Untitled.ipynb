{
 "cells": [
  {
   "cell_type": "code",
   "execution_count": 8,
   "id": "322b1eea",
   "metadata": {},
   "outputs": [
    {
     "name": "stdout",
     "output_type": "stream",
     "text": [
      "c\n",
      "{'name': 'B', 'age': 43, ('hello', 'world'): 1}\n",
      "l\n"
     ]
    }
   ],
   "source": [
    "a={\"name\":\"B\",\"age\":43,(\"hello\",\"world\"):1,}\n",
    "d={\"brand\":['a','b','c','','e']}\n",
    "print(d[\"brand\"][2])\n",
    "print(a)\n",
    "d1={'a':1,'b':2,'c':3,'d':[\"red\",\"white\",\"blue\"]}\n",
    "print(d1[\"d\"][2][1])\n"
   ]
  },
  {
   "cell_type": "code",
   "execution_count": 42,
   "id": "3b946f62",
   "metadata": {},
   "outputs": [
    {
     "name": "stdout",
     "output_type": "stream",
     "text": [
      "Mirror no.s from 1 to 100 are [0, 1, 2, 3, 11, 12, 13, 21, 22, 31, 101, 102, 103, 111, 112, 113, 121, 122, 201, 202, 211, 212, 221, 301, 311, 1001, 1002, 1003, 1011, 1012, 1013, 1021, 1022, 1031, 1101, 1102, 1103, 1111, 1112, 1113, 1121, 1122, 1201, 1202, 1211, 1212, 1301, 2001, 2002, 2011, 2012, 2021, 2022, 2101, 2102, 2111, 2121, 2201, 2202, 2211, 3001, 3011, 3101, 3111, 10001, 10002, 10003, 10011, 10012, 10013, 10021, 10022, 10031, 10101, 10102, 10103, 10111, 10112, 10113, 10121, 10122, 10201, 10202, 10211, 10212, 10221, 11001, 11002, 11003, 11011, 11012, 11013, 11021, 11022, 11031, 11101, 11102, 11103, 11111, 11112, 11113, 11121, 11122, 11201, 11202, 11211, 12001, 12002, 12011, 12012, 12101, 12102, 12111, 12201, 12202, 13001, 13011, 20001, 20002, 20011, 20012, 20021, 20022, 20101, 20102, 20111, 20112, 20121, 20122, 20201, 20211, 20221, 21001, 21002, 21011, 21021, 21101, 21102, 21111, 21201, 22001, 22002, 22011, 22101, 22102, 22111, 30001, 30011, 30101, 30111, 31001, 31011, 31101, 31111]\n"
     ]
    }
   ],
   "source": [
    "import math\n",
    "from math import sqrt\n",
    "def mirror():\n",
    "    \n",
    "    tpl=()\n",
    "    l=list(tpl)\n",
    "    for no in range (0,100001):\n",
    "       # tpl=()\n",
    "       # l=list(tpl)\n",
    "        rev = 0\n",
    "        s = no * no\n",
    "        while(s != 0):\n",
    "            dg = s % 10\n",
    "            rev = rev * 10 +dg\n",
    "            s = s // 10\n",
    "        s = sqrt(rev)\n",
    "        rev = 0\n",
    "        while(s != 0):\n",
    "            dg = s % 10\n",
    "            rev = rev * 10 +dg\n",
    "            s = s // 10\n",
    "        if(rev == no):\n",
    "            #print(\"no is mirror no\",no)\n",
    "            l.append(no)\n",
    "         #   print(l)\n",
    "        \"\"\"else:\n",
    "            print(\"no is not mirror no\")\"\"\"\n",
    "    print(\"Mirror no.s from 1 to 100 are\",l)\n",
    "mirror()        "
   ]
  },
  {
   "cell_type": "code",
   "execution_count": 10,
   "id": "59d8080e",
   "metadata": {},
   "outputs": [
    {
     "name": "stdout",
     "output_type": "stream",
     "text": [
      "Enter First number:12\n",
      "Enter a operter (+,-,*,/) :/\n",
      "Enter second number :3\n",
      "4.0\n"
     ]
    }
   ],
   "source": [
    "number1=int(input(\"Enter First number:\"))\n",
    "operater=input(\"Enter a operter (+,-,*,/) :\")\n",
    "number2= int(input(\"Enter second number :\"))\n",
    "if operater==\"+\":\n",
    "    print(number1+number2)\n",
    "elif operater==\"-\":\n",
    "    print(number1-number2)\n",
    "elif operater==\"*\":\n",
    "    print(number1*number2)\n",
    "elif operater==\"/\":\n",
    "    print(number1/number2)\n",
    "else:\n",
    "    print(\"invalid operater\")          \n",
    "          "
   ]
  },
  {
   "cell_type": "code",
   "execution_count": 22,
   "id": "f1e984d1",
   "metadata": {},
   "outputs": [
    {
     "name": "stdout",
     "output_type": "stream",
     "text": [
      "* \n",
      "* * \n",
      "* * * \n",
      "* * * * \n",
      "* * * * * \n"
     ]
    }
   ],
   "source": [
    "#a,b=1,1\n",
    "for a in range(1,6):\n",
    "    for b in range(1,a+1):\n",
    "        print(\"*\",end=\" \")\n",
    "    print()\n",
    "\n",
    "\n",
    "\n",
    "\n",
    "\n"
   ]
  },
  {
   "cell_type": "code",
   "execution_count": null,
   "id": "00edfdc0",
   "metadata": {},
   "outputs": [],
   "source": []
  }
 ],
 "metadata": {
  "kernelspec": {
   "display_name": "Python 3 (ipykernel)",
   "language": "python",
   "name": "python3"
  },
  "language_info": {
   "codemirror_mode": {
    "name": "ipython",
    "version": 3
   },
   "file_extension": ".py",
   "mimetype": "text/x-python",
   "name": "python",
   "nbconvert_exporter": "python",
   "pygments_lexer": "ipython3",
   "version": "3.9.7"
  }
 },
 "nbformat": 4,
 "nbformat_minor": 5
}

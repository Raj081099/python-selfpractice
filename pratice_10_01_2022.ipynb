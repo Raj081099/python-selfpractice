{
 "cells": [
  {
   "cell_type": "code",
   "execution_count": 1,
   "id": "2b83dba2",
   "metadata": {},
   "outputs": [
    {
     "name": "stdout",
     "output_type": "stream",
     "text": [
      "[1, 9, 25, 49, 81]\n"
     ]
    }
   ],
   "source": [
    "\n",
    "odd_square = []\n",
    "\n",
    "for x in range(1, 11):\n",
    "    if x % 2 == 1:\n",
    "        odd_square.append(x**2)\n",
    "\n",
    "print(odd_square)\n"
   ]
  },
  {
   "cell_type": "code",
   "execution_count": 2,
   "id": "1d868cc7",
   "metadata": {},
   "outputs": [
    {
     "name": "stdout",
     "output_type": "stream",
     "text": [
      "[1, 9, 25, 49, 81]\n"
     ]
    }
   ],
   "source": [
    "# Python program to demonstrate list\n",
    "# comprehension in Python\n",
    "\n",
    "# below list contains square of all\n",
    "# odd numbers from range 1 to 10\n",
    "odd_square = [x ** 2 for x in range(1, 11) if x % 2 == 1]\n",
    "print(odd_square)\n"
   ]
  },
  {
   "cell_type": "code",
   "execution_count": null,
   "id": "3c28c9d4",
   "metadata": {},
   "outputs": [],
   "source": []
  }
 ],
 "metadata": {
  "kernelspec": {
   "display_name": "Python 3 (ipykernel)",
   "language": "python",
   "name": "python3"
  },
  "language_info": {
   "codemirror_mode": {
    "name": "ipython",
    "version": 3
   },
   "file_extension": ".py",
   "mimetype": "text/x-python",
   "name": "python",
   "nbconvert_exporter": "python",
   "pygments_lexer": "ipython3",
   "version": "3.9.7"
  }
 },
 "nbformat": 4,
 "nbformat_minor": 5
}

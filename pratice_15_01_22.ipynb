{
 "cells": [
  {
   "cell_type": "code",
   "execution_count": 1,
   "id": "08027e36",
   "metadata": {},
   "outputs": [
    {
     "name": "stdout",
     "output_type": "stream",
     "text": [
      "Current Letter : D\n",
      "Current Letter : t\n",
      "Current Letter : c\n",
      "Current Letter : i\n",
      "Current Letter : e\n",
      "Current Letter : n\n",
      "Current Letter : c\n",
      "Current Letter : e\n"
     ]
    }
   ],
   "source": [
    "# Prints all letters except 'e' and 's'\n",
    "for letter in 'Datascience':\n",
    "    if letter == 'a' or letter == 's':\n",
    "        continue\n",
    "    print('Current Letter :', letter)\n"
   ]
  },
  {
   "cell_type": "code",
   "execution_count": 5,
   "id": "6b19ffb1",
   "metadata": {},
   "outputs": [
    {
     "name": "stdout",
     "output_type": "stream",
     "text": [
      "Current Letter : S\n"
     ]
    }
   ],
   "source": [
    "for letter in 'ICSA institute':\n",
    "\n",
    "    # break the loop as soon it sees 'e'\n",
    "    # or 's'\n",
    "    if letter == 't' or letter == 'S':\n",
    "        break\n",
    "\n",
    "print('Current Letter :', letter)\n"
   ]
  },
  {
   "cell_type": "code",
   "execution_count": 6,
   "id": "a86fb15a",
   "metadata": {},
   "outputs": [
    {
     "name": "stdout",
     "output_type": "stream",
     "text": [
      "Current Letter : e\n"
     ]
    }
   ],
   "source": [
    "for letter in 'Capgemini':\n",
    "\n",
    "    # break the loop as soon it sees 'e'\n",
    "    # or 's'\n",
    "    if letter == 'e' or letter == 'i':\n",
    "        break\n",
    "\n",
    "print('Current Letter :', letter)\n"
   ]
  },
  {
   "cell_type": "code",
   "execution_count": 7,
   "id": "e848a2b7",
   "metadata": {},
   "outputs": [
    {
     "name": "stdout",
     "output_type": "stream",
     "text": [
      "0 1 2 3 4 5 6 7 8 9 \n",
      "10 20 30 40 \n",
      "Sum of first 10 numbers : 45\n"
     ]
    }
   ],
   "source": [
    "# Python Program to\n",
    "# show range() basics\n",
    "\n",
    "# printing a number\n",
    "for i in range(10):\n",
    "    print(i, end=\" \")\n",
    "print()\n",
    "\n",
    "# using range for iteration\n",
    "l = [10, 20, 30, 40]\n",
    "for i in range(len(l)):\n",
    "    print(l[i], end=\" \")\n",
    "print()\n",
    "\n",
    "# performing sum of first 10 numbers\n",
    "sum = 0\n",
    "for i in range(1, 10):\n",
    "    sum = sum + i\n",
    "print(\"Sum of first 10 numbers :\", sum)\n"
   ]
  },
  {
   "cell_type": "code",
   "execution_count": 8,
   "id": "f6f4ba31",
   "metadata": {},
   "outputs": [
    {
     "name": "stdout",
     "output_type": "stream",
     "text": [
      "1\n",
      "2\n",
      "3\n",
      "No Break\n",
      "\n",
      "1\n"
     ]
    }
   ],
   "source": [
    "# Python program to demonstrate\n",
    "# for-else loop\n",
    "\n",
    "for i in range(1, 4):\n",
    "    print(i)\n",
    "else: # Executed because no break in for\n",
    "    print(\"No Break\\n\")\n",
    "\n",
    "for i in range(1, 4):\n",
    "    print(i)\n",
    "    break\n",
    "else: # Not executed as there is a break\n",
    "    print(\"No Break\")\n"
   ]
  },
  {
   "cell_type": "code",
   "execution_count": 9,
   "id": "778709ff",
   "metadata": {},
   "outputs": [
    {
     "name": "stdout",
     "output_type": "stream",
     "text": [
      "1\n",
      "2\n",
      "3\n",
      "4\n",
      "No Break\n",
      "\n",
      "1\n"
     ]
    }
   ],
   "source": [
    "# Python program to demonstrate\n",
    "# while-else loop\n",
    "\n",
    "i = 0\n",
    "while i < 4:\n",
    "    i += 1\n",
    "    print(i)\n",
    "else: # Executed because no break in for\n",
    "    print(\"No Break\\n\")\n",
    "\n",
    "i = 0\n",
    "while i < 4:\n",
    "    i += 1\n",
    "    print(i)\n",
    "    break\n",
    "else: # Not executed as there is a break\n",
    "    print(\"No Break\")\n"
   ]
  },
  {
   "cell_type": "code",
   "execution_count": 10,
   "id": "472e9c2e",
   "metadata": {},
   "outputs": [
    {
     "name": "stdout",
     "output_type": "stream",
     "text": [
      "Value of i : 13\n"
     ]
    }
   ],
   "source": [
    "# An empty loop\n",
    "a = 'rajendranayak'\n",
    "i = 0\n",
    "\n",
    "while i < len(a):\n",
    "\ti += 1\n",
    "\tpass\n",
    "\n",
    "print('Value of i :', i)\n"
   ]
  },
  {
   "cell_type": "code",
   "execution_count": 11,
   "id": "5eec6b50",
   "metadata": {},
   "outputs": [
    {
     "name": "stdout",
     "output_type": "stream",
     "text": [
      "1 2 3 4 5 7 8 9 10 "
     ]
    }
   ],
   "source": [
    "# Python program to\n",
    "# demonstrate continue\n",
    "# statement\n",
    "\n",
    "# loop from 1 to 10\n",
    "for i in range(1, 11):\n",
    "\n",
    "\n",
    "    if i == 6:\n",
    "        continue\n",
    "    else:\n",
    "        # otherwise print the value\n",
    "        # of i\n",
    "        print(i, end=\" \")\n"
   ]
  },
  {
   "cell_type": "code",
   "execution_count": null,
   "id": "49ef4465",
   "metadata": {},
   "outputs": [],
   "source": []
  }
 ],
 "metadata": {
  "kernelspec": {
   "display_name": "Python 3 (ipykernel)",
   "language": "python",
   "name": "python3"
  },
  "language_info": {
   "codemirror_mode": {
    "name": "ipython",
    "version": 3
   },
   "file_extension": ".py",
   "mimetype": "text/x-python",
   "name": "python",
   "nbconvert_exporter": "python",
   "pygments_lexer": "ipython3",
   "version": "3.9.7"
  }
 },
 "nbformat": 4,
 "nbformat_minor": 5
}
